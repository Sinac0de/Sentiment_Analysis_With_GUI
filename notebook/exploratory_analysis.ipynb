{
 "cells": [
  {
   "cell_type": "code",
   "execution_count": null,
   "metadata": {
    "vscode": {
     "languageId": "plaintext"
    }
   },
   "outputs": [],
   "source": [
    "import pandas as pd\n",
    "import matplotlib.pyplot as plt\n",
    "import seaborn as sns\n",
    "\n",
    "# بارگذاری دیتاست\n",
    "df = pd.read_excel('../data/sentipers.xlsx')\n",
    "\n",
    "# نمایش توزیع برچسب‌ها\n",
    "sns.countplot(x='polarity', data=df)\n",
    "plt.title('توزیع برچسب‌های قطبیت')\n",
    "plt.show()\n",
    "\n",
    "# تحلیل طول جملات\n",
    "df['sentence_length'] = df['sentence'].apply(len)\n",
    "sns.histplot(df['sentence_length'])\n",
    "plt.title('توزیع طول جملات')\n",
    "plt.show()"
   ]
  }
 ],
 "metadata": {
  "language_info": {
   "name": "python"
  }
 },
 "nbformat": 4,
 "nbformat_minor": 2
}
